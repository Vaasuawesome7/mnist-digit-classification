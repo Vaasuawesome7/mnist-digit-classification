{
  "nbformat": 4,
  "nbformat_minor": 0,
  "metadata": {
    "colab": {
      "name": "test.ipynb",
      "provenance": [],
      "collapsed_sections": []
    },
    "kernelspec": {
      "name": "python3",
      "display_name": "Python 3"
    },
    "language_info": {
      "name": "python"
    }
  },
  "cells": [
    {
      "cell_type": "code",
      "metadata": {
        "id": "BsPRqoFSpBpO"
      },
      "source": [
        "import tensorflow\n",
        "from tensorflow import keras\n",
        "import cv2\n",
        "import numpy as np\n",
        "from keras.layers import Input, Add, Dense, Activation,BatchNormalization, Flatten, Conv2D, AveragePooling2D, MaxPooling2D,Dropout\n",
        "from keras import layers ,regularizers\n",
        "from keras.models import Model\n",
        "import matplotlib.pyplot as plt\n",
        "from sklearn import metrics"
      ],
      "execution_count": null,
      "outputs": []
    },
    {
      "cell_type": "code",
      "metadata": {
        "colab": {
          "base_uri": "https://localhost:8080/"
        },
        "id": "W9G-KNcjpIHC",
        "outputId": "82411de7-5fd7-4365-fbac-922b649a6fd7"
      },
      "source": [
        "from google.colab import drive\n",
        "drive.mount('/content/drive/')"
      ],
      "execution_count": null,
      "outputs": [
        {
          "output_type": "stream",
          "name": "stdout",
          "text": [
            "Mounted at /content/drive/\n"
          ]
        }
      ]
    },
    {
      "cell_type": "code",
      "metadata": {
        "id": "G4mFFRXZpk_L"
      },
      "source": [
        "import os\n",
        "os.chdir(\"/content/drive/My Drive/MNIST-params\")"
      ],
      "execution_count": null,
      "outputs": []
    },
    {
      "cell_type": "code",
      "metadata": {
        "id": "mmL_Osx3vivN"
      },
      "source": [
        "vggModel = keras.models.load_model(\"vgg16/vgg16_model.h5\")\n",
        "baseModel = keras.models.load_model(\"base-model/base_model.h5\")"
      ],
      "execution_count": null,
      "outputs": []
    },
    {
      "cell_type": "code",
      "metadata": {
        "colab": {
          "base_uri": "https://localhost:8080/"
        },
        "id": "GFwoP8byp3Vx",
        "outputId": "6644e4c7-3a3b-4619-8d5c-a96a2b2aad8e"
      },
      "source": [
        "img = cv2.imread(\"images/1 2.jpg\")\n",
        "\n",
        "print(\"Input image size: \" + str(img.shape))\n",
        "\n",
        "grey_image = cv2.cvtColor(img, cv2.COLOR_BGR2GRAY)\n",
        "\n",
        "blurred_image = cv2.GaussianBlur(grey_image, (5, 5), 0)\n",
        "cv2.imwrite(\"images/blurred.jpeg\", blurred_image)\n",
        "\n",
        "kernel = np.ones((5, 5), np.uint8)\n",
        "\n",
        "dilated_image = cv2.dilate(blurred_image, kernel, iterations=1)\n",
        "cv2.imwrite(\"images/dilated.jpeg\", dilated_image)\n",
        "eroded_image = cv2.erode(dilated_image, kernel, iterations=2)\n",
        "cv2.imwrite(\"images/eroded.jpeg\", eroded_image)\n",
        "\n",
        "binary_image = cv2.adaptiveThreshold(eroded_image, 255, cv2.ADAPTIVE_THRESH_GAUSSIAN_C, cv2.THRESH_BINARY_INV, 25, 3)\n",
        "cv2.imwrite(\"images/binary.jpeg\", binary_image)\n",
        "\n",
        "img = cv2.resize(binary_image, (28, 28))\n",
        "cv2.imwrite(\"images/final.jpeg\", img);"
      ],
      "execution_count": null,
      "outputs": [
        {
          "output_type": "stream",
          "name": "stdout",
          "text": [
            "Input image size: (292, 270, 3)\n"
          ]
        }
      ]
    },
    {
      "cell_type": "code",
      "metadata": {
        "colab": {
          "base_uri": "https://localhost:8080/"
        },
        "id": "yQ-NZ_uNwfgS",
        "outputId": "cf833551-fbbf-4085-afd0-e00665aef675"
      },
      "source": [
        "predictions = vggModel.predict(np.array([img]))\n",
        "print(\"Output is \" + str(np.argmax(predictions[0])))"
      ],
      "execution_count": null,
      "outputs": [
        {
          "output_type": "stream",
          "name": "stdout",
          "text": [
            "Output is 1\n"
          ]
        }
      ]
    },
    {
      "cell_type": "code",
      "metadata": {
        "colab": {
          "base_uri": "https://localhost:8080/"
        },
        "id": "ucmNlvui3gKO",
        "outputId": "c4a67d72-35a5-44f1-bf0a-d21d2cee74dd"
      },
      "source": [
        "handwriting_mnist = keras.datasets.mnist\n",
        "(train_images,train_labels),(test_images,test_labels) = handwriting_mnist.load_data()"
      ],
      "execution_count": null,
      "outputs": [
        {
          "output_type": "stream",
          "name": "stdout",
          "text": [
            "Downloading data from https://storage.googleapis.com/tensorflow/tf-keras-datasets/mnist.npz\n",
            "11493376/11490434 [==============================] - 0s 0us/step\n",
            "11501568/11490434 [==============================] - 0s 0us/step\n"
          ]
        }
      ]
    },
    {
      "cell_type": "code",
      "metadata": {
        "colab": {
          "base_uri": "https://localhost:8080/"
        },
        "id": "IFsgcMhIBkRN",
        "outputId": "0369a153-171f-4b9a-a846-39e166aa8066"
      },
      "source": [
        "vggPred = vggModel.predict(test_images)\n",
        "print(metrics.classification_report(test_labels, np.argmax(vggPred, axis=1), digits = 4))"
      ],
      "execution_count": null,
      "outputs": [
        {
          "output_type": "stream",
          "name": "stdout",
          "text": [
            "              precision    recall  f1-score   support\n",
            "\n",
            "           0     0.9969    0.9980    0.9975       980\n",
            "           1     0.9974    0.9965    0.9969      1135\n",
            "           2     0.9952    0.9971    0.9961      1032\n",
            "           3     0.9941    0.9980    0.9960      1010\n",
            "           4     0.9909    0.9980    0.9944       982\n",
            "           5     0.9978    0.9944    0.9961       892\n",
            "           6     0.9969    0.9937    0.9953       958\n",
            "           7     0.9980    0.9951    0.9966      1028\n",
            "           8     0.9969    0.9969    0.9969       974\n",
            "           9     0.9960    0.9921    0.9940      1009\n",
            "\n",
            "    accuracy                         0.9960     10000\n",
            "   macro avg     0.9960    0.9960    0.9960     10000\n",
            "weighted avg     0.9960    0.9960    0.9960     10000\n",
            "\n"
          ]
        }
      ]
    },
    {
      "cell_type": "code",
      "metadata": {
        "colab": {
          "base_uri": "https://localhost:8080/"
        },
        "id": "A4trK1m7BxDK",
        "outputId": "667b8947-721d-4fc5-8dbe-3a07bc251916"
      },
      "source": [
        "baseModelPred = baseModel.predict(test_images)\n",
        "print(metrics.classification_report(test_labels, np.argmax(baseModelPred, axis=1), digits = 4))"
      ],
      "execution_count": null,
      "outputs": [
        {
          "output_type": "stream",
          "name": "stdout",
          "text": [
            "              precision    recall  f1-score   support\n",
            "\n",
            "           0     0.9828    0.9888    0.9858       980\n",
            "           1     0.9877    0.9903    0.9890      1135\n",
            "           2     0.9769    0.9826    0.9797      1032\n",
            "           3     0.9783    0.9832    0.9807      1010\n",
            "           4     0.9866    0.9756    0.9811       982\n",
            "           5     0.9660    0.9877    0.9767       892\n",
            "           6     0.9864    0.9843    0.9854       958\n",
            "           7     0.9710    0.9757    0.9733      1028\n",
            "           8     0.9782    0.9682    0.9732       974\n",
            "           9     0.9797    0.9584    0.9689      1009\n",
            "\n",
            "    accuracy                         0.9795     10000\n",
            "   macro avg     0.9794    0.9795    0.9794     10000\n",
            "weighted avg     0.9795    0.9795    0.9795     10000\n",
            "\n"
          ]
        }
      ]
    },
    {
      "cell_type": "code",
      "metadata": {
        "colab": {
          "base_uri": "https://localhost:8080/"
        },
        "id": "tRTGckbUCLRX",
        "outputId": "48addca7-1ebc-4aff-a890-bdfbc3e05948"
      },
      "source": [
        ""
      ],
      "execution_count": null,
      "outputs": [
        {
          "output_type": "execute_result",
          "data": {
            "text/plain": [
              "(10000,)"
            ]
          },
          "metadata": {},
          "execution_count": 236
        }
      ]
    },
    {
      "cell_type": "code",
      "metadata": {
        "id": "Nb0Qy0GrCMco"
      },
      "source": [
        ""
      ],
      "execution_count": null,
      "outputs": []
    }
  ]
}