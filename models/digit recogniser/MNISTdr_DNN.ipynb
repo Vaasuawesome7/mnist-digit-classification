{
  "nbformat": 4,
  "nbformat_minor": 0,
  "metadata": {
    "colab": {
      "name": "MNISTdr_DNN.ipynb",
      "provenance": [],
      "collapsed_sections": []
    },
    "kernelspec": {
      "display_name": "Python 3",
      "language": "python",
      "name": "python3"
    },
    "language_info": {
      "codemirror_mode": {
        "name": "ipython",
        "version": 3
      },
      "file_extension": ".py",
      "mimetype": "text/x-python",
      "name": "python",
      "nbconvert_exporter": "python",
      "pygments_lexer": "ipython3",
      "version": "3.7.3"
    }
  },
  "cells": [
    {
      "cell_type": "code",
      "metadata": {
        "id": "onVGV7eBOJfF"
      },
      "source": [
        "import pandas as pd\n",
        "import numpy as np\n",
        "import cv2\n",
        "from tqdm import tqdm\n",
        "import os\n",
        "import csv\n",
        "import tensorflow as tf\n",
        "from tensorflow import keras"
      ],
      "execution_count": null,
      "outputs": []
    },
    {
      "cell_type": "code",
      "metadata": {
        "id": "dRJ8R0-IOJfH"
      },
      "source": [
        "def create_op_vec(i):\n",
        "    op = np.zeros((10,1))\n",
        "    op[i] = 1\n",
        "    return op\n",
        "\n",
        "def oneHot(inp):\n",
        "  outp = []\n",
        "  for out in inp:\n",
        "    outp.append(create_op_vec(out))\n",
        "  return np.array(outp) "
      ],
      "execution_count": null,
      "outputs": []
    },
    {
      "cell_type": "code",
      "metadata": {
        "id": "2082dzxGOJfH",
        "colab": {
          "base_uri": "https://localhost:8080/"
        },
        "outputId": "1bf6ddc5-740b-4227-f068-0de4f13b5db3"
      },
      "source": [
        "# loading data\n",
        "handwriting_mnist = keras.datasets.mnist\n",
        "(train_images,train_labels),(test_images,test_labels) = handwriting_mnist.load_data()\n",
        "\n",
        "# pre-processing data\n",
        "train_images = (train_images.reshape(len(train_images), 784).T)/255\n",
        "test_images = (test_images.reshape(len(test_images), 784).T)/255\n",
        "train_labels = (oneHot(train_labels).reshape(len(train_labels), 10)).T\n",
        "test_labels = (oneHot(test_labels).reshape(len(test_labels), 10)).T"
      ],
      "execution_count": null,
      "outputs": [
        {
          "output_type": "stream",
          "name": "stdout",
          "text": [
            "Downloading data from https://storage.googleapis.com/tensorflow/tf-keras-datasets/mnist.npz\n",
            "11493376/11490434 [==============================] - 0s 0us/step\n",
            "11501568/11490434 [==============================] - 0s 0us/step\n"
          ]
        }
      ]
    },
    {
      "cell_type": "code",
      "metadata": {
        "colab": {
          "base_uri": "https://localhost:8080/"
        },
        "id": "ChZC-b9q7DSh",
        "outputId": "ef0a83ef-75ab-42fb-e9bb-fd267e9316d8"
      },
      "source": [
        "print(train_images.shape)\n",
        "print(test_images.shape)\n",
        "print(train_labels.shape)\n",
        "print(test_labels.shape)"
      ],
      "execution_count": null,
      "outputs": [
        {
          "output_type": "stream",
          "name": "stdout",
          "text": [
            "(784, 60000)\n",
            "(784, 10000)\n",
            "(10, 60000)\n",
            "(10, 10000)\n"
          ]
        }
      ]
    },
    {
      "cell_type": "code",
      "metadata": {
        "id": "HWYIzY6POJfI"
      },
      "source": [
        "# cost function"
      ],
      "execution_count": null,
      "outputs": []
    },
    {
      "cell_type": "code",
      "metadata": {
        "id": "NQRaVi9aOJfJ"
      },
      "source": [
        "def cost_function(parameters, A, Y, lambd):\n",
        "    m = Y.shape[1]\n",
        "    F = Y*np.log(A) + (1-Y)*np.log(1-A)\n",
        "    J = -np.sum(np.sum(F, axis = 1))/m\n",
        "    parasum = 0\n",
        "    L = int(len(parameters)/2)\n",
        "    for l in range(1, L + 1):\n",
        "        parasum += np.sum(np.sum(parameters['W' + str(l)]**2))\n",
        "    return J + parasum*lambd/(2*m)"
      ],
      "execution_count": null,
      "outputs": []
    },
    {
      "cell_type": "code",
      "metadata": {
        "id": "2ijTWDjKOJfJ"
      },
      "source": [
        "# FORWARD PROPAGATION"
      ],
      "execution_count": null,
      "outputs": []
    },
    {
      "cell_type": "code",
      "metadata": {
        "id": "-J980SwWOJfK"
      },
      "source": [
        "def initialise_parameters(layer_dims):\n",
        "    L = len(layer_dims) - 1\n",
        "    \n",
        "    parameters = {}\n",
        "    \n",
        "    for l in range(1,L + 1):\n",
        "        parameters[\"W\" + str(l)] = np.random.randn(layer_dims[l], layer_dims[l-1]) * 0.01\n",
        "        parameters[\"b\" + str(l)] = np.random.randn(layer_dims[l], 1) * 0.01\n",
        "        \n",
        "        assert(parameters['W' + str(l)].shape == (layer_dims[l], layer_dims[l-1]))\n",
        "        assert(parameters['b' + str(l)].shape == (layer_dims[l], 1))\n",
        "        \n",
        "    return parameters"
      ],
      "execution_count": null,
      "outputs": []
    },
    {
      "cell_type": "code",
      "metadata": {
        "id": "t8Esw-GVOJfL"
      },
      "source": [
        "def relu(Z):\n",
        "    return np.maximum(0, Z)"
      ],
      "execution_count": null,
      "outputs": []
    },
    {
      "cell_type": "code",
      "metadata": {
        "id": "KFq7DhidOJfL"
      },
      "source": [
        "def sigmoid(Z):\n",
        "    return 1/(1 + np.exp(-Z))"
      ],
      "execution_count": null,
      "outputs": []
    },
    {
      "cell_type": "code",
      "metadata": {
        "id": "Q6KBTxdmOJfM"
      },
      "source": [
        "def linear_jump(A_prev, W, b):\n",
        "    return np.dot(W, A_prev) + b"
      ],
      "execution_count": null,
      "outputs": []
    },
    {
      "cell_type": "code",
      "metadata": {
        "id": "15ophuAcOJfM"
      },
      "source": [
        "def forward_prop(parameters, X, Y, i, lambd):\n",
        "    \n",
        "    L = int(len(parameters)/2)\n",
        "    cacheZ = []\n",
        "    cacheA = []\n",
        "    cacheA.append(X)\n",
        "    A_prev = X\n",
        "    \n",
        "    for l in range(1,L):\n",
        "        Z = linear_jump(A_prev, parameters[\"W\" + str(l)], parameters[\"b\" + str(l)])\n",
        "        A_prev = relu(Z)\n",
        "        cacheZ.append(Z)\n",
        "        cacheA.append(A_prev)\n",
        "    \n",
        "    Z_final = linear_jump(A_prev, parameters[\"W\" + str(L)], parameters[\"b\" + str(L)])\n",
        "    AL = sigmoid(Z_final)\n",
        "\n",
        "    cacheZ.append(Z_final)\n",
        "    predictions = np.argmax(AL, axis=0)\n",
        "    labels = np.argmax(Y, axis=0)\n",
        "    accuracy = np.mean(predictions == labels)\n",
        "\n",
        "    if i%1 == 0:\n",
        "        print(\"At iteration \" + str(i))\n",
        "        print(\"Cost = \" + str(cost_function(parameters, AL, Y, lambd)))\n",
        "        print(\"Accuracy = \" + str(accuracy))\n",
        "    \n",
        "    return cacheA, cacheZ, AL"
      ],
      "execution_count": null,
      "outputs": []
    },
    {
      "cell_type": "code",
      "metadata": {
        "id": "jKaOuVgGOJfN"
      },
      "source": [
        "# BACKWARD PROPAGATAION"
      ],
      "execution_count": null,
      "outputs": []
    },
    {
      "cell_type": "code",
      "metadata": {
        "id": "ULahlwx9OJfN"
      },
      "source": [
        "def relu_backward(Z):\n",
        "    final = np.maximum(0, Z)\n",
        "    for i in range(final.shape[0]):\n",
        "        for j in range(final.shape[1]):\n",
        "            if final[i][j] != 0:\n",
        "                final[i][j] = 1\n",
        "    \n",
        "    return final"
      ],
      "execution_count": null,
      "outputs": []
    },
    {
      "cell_type": "code",
      "metadata": {
        "id": "J2iIhJYYOJfN"
      },
      "source": [
        "def sigmoid_backward(Z):\n",
        "    A = sigmoid(Z)\n",
        "    return A*(1-A)"
      ],
      "execution_count": null,
      "outputs": []
    },
    {
      "cell_type": "code",
      "metadata": {
        "id": "7s0iYQ3hOJfO"
      },
      "source": [
        "def back_prop(parameters, X, Y, iteration, lambd):\n",
        "    \n",
        "    m = X.shape[1]\n",
        "    L = int(len(parameters)/2)\n",
        "    cacheA, cacheZ, AL = forward_prop(parameters, X, Y, iteration, lambd)\n",
        "    gradients = {}\n",
        "    \n",
        "    dZ = AL - Y\n",
        "    gradients['dW' + str(L)] = np.dot(dZ, cacheA[L-1].T)/m + lambd * parameters[\"W\" + str(L)] / m\n",
        "    gradients['db' + str(L)] = np.sum(dZ, axis=1, keepdims=True)/m\n",
        "    dA = np.dot(parameters['W' + str(L)].T, dZ)\n",
        "    \n",
        "    for l in reversed(range(1,L)):\n",
        "        dZ = dA * relu_backward(cacheZ[l-1])\n",
        "        gradients['dW' + str(l)] = np.dot(dZ, cacheA[l-1].T)/m + lambd * parameters[\"W\" + str(l)] / m\n",
        "        gradients['db' + str(l)] = np.sum(dZ, axis=1, keepdims=True)/m\n",
        "        dA = np.dot(parameters['W' + str(l)].T, dZ)\n",
        "        \n",
        "    return gradients"
      ],
      "execution_count": null,
      "outputs": []
    },
    {
      "cell_type": "code",
      "metadata": {
        "id": "i7DGuFNzOJfO"
      },
      "source": [
        "# UPDATING PARAMETERS\n",
        "\n",
        "def jump(parameters, gradients, alpha):\n",
        "    L = int(len(parameters)/2)\n",
        "    for l in range(1, L + 1):\n",
        "        parameters[\"W\" + str(l)] -= alpha*gradients[\"dW\" + str(l)]\n",
        "        parameters[\"b\" + str(l)] -= alpha*gradients[\"db\" + str(l)]\n",
        "        \n",
        "    \n",
        "    return parameters"
      ],
      "execution_count": null,
      "outputs": []
    },
    {
      "cell_type": "code",
      "metadata": {
        "id": "G7kXAq2NOJfO"
      },
      "source": [
        "# TRAINING OUR MODEL\n",
        "\n",
        "def train(X, Y, alpha, iterations, layer_dims, parameters, lambd):\n",
        "        \n",
        "    for i in tqdm(range(iterations)):\n",
        "        gradients = back_prop(parameters, X, Y, i, lambd)\n",
        "        parameters = jump(parameters, gradients, alpha)\n",
        "    \n",
        "    return parameters"
      ],
      "execution_count": null,
      "outputs": []
    },
    {
      "cell_type": "code",
      "metadata": {
        "id": "SI2gZZjEOJfP"
      },
      "source": [
        "# SPECIFYING NEURAL NETWORK\n",
        "\n",
        "n_x = 784\n",
        "n_y = 10\n",
        "n_h1 = 500\n",
        "n_h2 = 500\n",
        "n_h3 = 500\n",
        "layer_dims = np.array([n_x, n_h1, n_h2, n_y])\n",
        "r_parameters = initialise_parameters(layer_dims)"
      ],
      "execution_count": null,
      "outputs": []
    },
    {
      "cell_type": "code",
      "metadata": {
        "colab": {
          "base_uri": "https://localhost:8080/"
        },
        "id": "xvmrGxbIOJfP",
        "outputId": "7c37d45c-351a-4215-be16-015cbb659567"
      },
      "source": [
        "# GETTING OPTIMAL PARAMETERS\n",
        "\n",
        "params = train(train_images, train_labels, 0.02, 2, layer_dims, params, 0)"
      ],
      "execution_count": null,
      "outputs": [
        {
          "output_type": "stream",
          "name": "stderr",
          "text": [
            "\r  0%|          | 0/2 [00:00<?, ?it/s]"
          ]
        },
        {
          "output_type": "stream",
          "name": "stdout",
          "text": [
            "At iteration 0\n",
            "Cost = 0.1658304503875758\n",
            "Accuracy = 0.9774333333333334\n"
          ]
        },
        {
          "output_type": "stream",
          "name": "stderr",
          "text": [
            "\r 50%|█████     | 1/2 [01:00<01:00, 60.64s/it]"
          ]
        },
        {
          "output_type": "stream",
          "name": "stdout",
          "text": [
            "At iteration 1\n",
            "Cost = 0.16574492786088899\n",
            "Accuracy = 0.9775\n"
          ]
        },
        {
          "output_type": "stream",
          "name": "stderr",
          "text": [
            "100%|██████████| 2/2 [02:00<00:00, 60.49s/it]\n"
          ]
        }
      ]
    },
    {
      "cell_type": "code",
      "metadata": {
        "colab": {
          "base_uri": "https://localhost:8080/"
        },
        "id": "erdXF1hBd3-d",
        "outputId": "011826cb-3b35-4779-a8f0-7ff3cdf0ac65"
      },
      "source": [
        "from google.colab import drive\n",
        "drive.mount('/content/drive/')"
      ],
      "execution_count": null,
      "outputs": [
        {
          "output_type": "stream",
          "name": "stdout",
          "text": [
            "Mounted at /content/drive/\n"
          ]
        }
      ]
    },
    {
      "cell_type": "code",
      "metadata": {
        "id": "1Mx-3LuS9P2U"
      },
      "source": [
        "os.chdir('/content/drive/My Drive/Digit Recognizer/Parameters')\n",
        "\n",
        "params5 = {}\n",
        "for l in range(1,4):\n",
        "    params5['W' + str(l)] = np.array(pd.read_csv('params W' + str(l) + '.csv').values)\n",
        "    params5['b' + str(l)] = np.array(pd.read_csv('params b' + str(l) + '.csv').values)\n"
      ],
      "execution_count": null,
      "outputs": []
    },
    {
      "cell_type": "code",
      "metadata": {
        "id": "CaeM7mlXOJfQ",
        "colab": {
          "base_uri": "https://localhost:8080/"
        },
        "outputId": "aa8bf594-8304-4002-9d48-12cafe075a55"
      },
      "source": [
        "print(\"=== TRAIN SET ===\")\n",
        "_, _, A = forward_prop(params5, train_images, train_labels, 0, 0)\n",
        "print(\"\\n=== TEST SET ===\")\n",
        "_, _, A_t = forward_prop(params5, test_images, test_labels, 0, 0)"
      ],
      "execution_count": null,
      "outputs": [
        {
          "output_type": "stream",
          "name": "stdout",
          "text": [
            "=== TRAIN SET ===\n",
            "At iteration 0\n",
            "Cost = 0.16765014047393623\n",
            "Accuracy = 0.9769666666666666\n",
            "\n",
            "=== TEST SET ===\n",
            "At iteration 0\n",
            "Cost = 0.1500298228749556\n",
            "Accuracy = 0.9787\n"
          ]
        }
      ]
    },
    {
      "cell_type": "code",
      "metadata": {
        "colab": {
          "base_uri": "https://localhost:8080/"
        },
        "id": "7ZubzNmHeKk5",
        "outputId": "85efd4a6-ddc7-4808-d6aa-8c40267bfbbc"
      },
      "source": [
        "from sklearn import metrics\n",
        "print(metrics.classification_report(np.argmax(test_labels, axis=0), np.argmax(A_t, axis=0), digits = 4))"
      ],
      "execution_count": null,
      "outputs": [
        {
          "output_type": "stream",
          "name": "stdout",
          "text": [
            "              precision    recall  f1-score   support\n",
            "\n",
            "           0     0.9798    0.9888    0.9843       980\n",
            "           1     0.9817    0.9938    0.9877      1135\n",
            "           2     0.9825    0.9767    0.9796      1032\n",
            "           3     0.9763    0.9802    0.9783      1010\n",
            "           4     0.9786    0.9786    0.9786       982\n",
            "           5     0.9776    0.9765    0.9770       892\n",
            "           6     0.9761    0.9812    0.9787       958\n",
            "           7     0.9746    0.9718    0.9732      1028\n",
            "           8     0.9813    0.9713    0.9763       974\n",
            "           9     0.9779    0.9663    0.9721      1009\n",
            "\n",
            "    accuracy                         0.9787     10000\n",
            "   macro avg     0.9786    0.9785    0.9786     10000\n",
            "weighted avg     0.9787    0.9787    0.9787     10000\n",
            "\n"
          ]
        }
      ]
    },
    {
      "cell_type": "code",
      "metadata": {
        "id": "swnCVUEyOJfS"
      },
      "source": [
        "# SAVING THE PARAMETERS IN A CSV FILE\n",
        "\n",
        "os.chdir('c:/Users/hp-2111/Desktop/ProjectRelated/Parameters/')\n",
        "L = int(len(params)/2)\n",
        "for l in tqdm(range(1, L+1)):\n",
        "    with open('params W' + str(l) + '.csv', 'w', newline='') as file:\n",
        "        writer = csv.writer(file)\n",
        "        writer.writerow(np.ones(params['W' + str(l)].shape[1]) * 2)\n",
        "        writer.writerows(params['W' + str(l)])\n",
        "    \n",
        "    with open('params b' + str(l) + '.csv', 'w', newline='') as file:\n",
        "        writer = csv.writer(file)\n",
        "        writer.writerow(np.ones(params['b' + str(l)].shape[1]) * 2)\n",
        "        writer.writerows(params['b' + str(l)])"
      ],
      "execution_count": null,
      "outputs": []
    },
    {
      "cell_type": "code",
      "metadata": {
        "id": "OyDDRkgQatCE"
      },
      "source": [
        ""
      ],
      "execution_count": null,
      "outputs": []
    }
  ]
}