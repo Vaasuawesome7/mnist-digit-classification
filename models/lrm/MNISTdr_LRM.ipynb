{
  "nbformat": 4,
  "nbformat_minor": 0,
  "metadata": {
    "colab": {
      "name": "MNISTdr_LRM.ipynb",
      "provenance": [],
      "collapsed_sections": []
    },
    "kernelspec": {
      "display_name": "Python 3",
      "language": "python",
      "name": "python3"
    },
    "language_info": {
      "codemirror_mode": {
        "name": "ipython",
        "version": 3
      },
      "file_extension": ".py",
      "mimetype": "text/x-python",
      "name": "python",
      "nbconvert_exporter": "python",
      "pygments_lexer": "ipython3",
      "version": "3.7.3"
    }
  },
  "cells": [
    {
      "cell_type": "code",
      "metadata": {
        "id": "vw_kFM-Zd_np"
      },
      "source": [
        "import numpy as np\n",
        "import csv\n",
        "\n",
        "def loadCSV(filename):\n",
        "    with open(filename,\"r\") as csvfile:\n",
        "        lines = csv.reader(csvfile)\n",
        "        dataset = list(lines)\n",
        "        for i in range(len(dataset)):\n",
        "            dataset[i] = [float(x) for x in dataset[i]]\n",
        "    return np.array(dataset)"
      ],
      "execution_count": null,
      "outputs": []
    },
    {
      "cell_type": "code",
      "metadata": {
        "id": "2ZsOMnjvfXpR"
      },
      "source": [
        "def sigmoid(x):\n",
        "    x = np.float64(x)\n",
        "    return ( 1.0 / (1.0 + np.exp(-x)))\n",
        "\n",
        "def cost_function (X, Y, theta, lmbda):\n",
        "    h = sigmoid(X @ (theta));\n",
        "    m = len(X)\n",
        "    J = (-1/m)*np.sum(Y*np.log(h) + (1-Y)*np.log(1-h)) + (lmbda/(2*m))*np.sum(theta[1:] * theta[1:])\n",
        "    print(\"J : \",J)\n",
        "    grad = (1/m)*np.dot(np.transpose(X),(h-Y))\n",
        "    return [J,grad]\n",
        "\n",
        "def gradient_descent (X,Y,theta,lr,conv,lmbda):\n",
        "    [current,grad] = cost_function(X,Y,theta,lmbda)\n",
        "    prev = 0.0;\n",
        "    m = len(X)\n",
        "    h = sigmoid(X @ np.transpose(theta))\n",
        "    while(abs(current - prev) >= conv):\n",
        "        theta = theta - (lr*grad)\n",
        "        prev = current;\n",
        "        [current,grad] = cost_function(X,Y,theta,lmbda)\n",
        "        print(abs(current - prev) )\n",
        "        print(conv)\n",
        "    return theta\n",
        "\n",
        "def one_vs_all(X,Y, Num_labels):\n",
        "    [m, n] = np.shape(X)\n",
        "    all_theta = np.zeros((Num_labels,n), dtype = np.float64)\n",
        "    lmbda = 0\n",
        "    lr = 0.000001\n",
        "    conv = 0.000001\n",
        "    print(\"Training\\n\")\n",
        "    for i in range(Num_labels):\n",
        "        Y_one = (Y==(i))*1\n",
        "        all_theta[i,:] = gradient_descent(X,Y_one,all_theta[i,:],lr, conv,lmbda)\n",
        "        print(\"Trained \",i)\n",
        "    return all_theta\n",
        "\n",
        "def predict(X,Y,all_theta, Num_labels):\n",
        "    h = sigmoid(X @ np.transpose(all_theta))\n",
        "    prediction = h.argmax(axis=1)\n",
        "    return prediction\n",
        "\n",
        "def accuracy(pred,Y):\n",
        "    err = (pred == Y)\n",
        "    err = err*1\n",
        "    acc = (np.sum(err)/len(err))*100\n",
        "    print(\"Accuracy is: \",acc,\"\\n\")\n",
        "    return acc"
      ],
      "execution_count": null,
      "outputs": []
    },
    {
      "cell_type": "code",
      "metadata": {
        "id": "Uj-SZPY-hqA8"
      },
      "source": [
        "train = loadCSV(\"sample_data/mnist_train_small.csv\")\n",
        "test = loadCSV(\"sample_data/mnist_test.csv\")\n",
        "\n",
        "\n",
        "N_train = len(train)\n",
        "N_test = len(test)\n",
        "X_train = train[:,1:]\n",
        "X_test = test[:,1:]\n",
        "Y_train = train[:,0]\n",
        "Y_test = test[:,0];\n",
        "\n",
        "print(N_train)\n",
        "print(N_test)\n",
        "o_train = np.ones((N_train,1),dtype= np.float64)\n",
        "o_test = np.ones((N_test,1), dtype= np.float64)\n",
        "X_train = np.concatenate((o_train,X_train),1)\n",
        "X_test = np.concatenate((o_test,X_test),1)\n",
        "\n",
        "Num_labels = 10;\n",
        "Num_features = len(train[0]) + 1\n",
        "all_theta = loadCSV(\"sample_data/alltheta.csv\")\n",
        "# all_theta = one_vs_all(X_train,Y_train,Num_labels)"
      ],
      "execution_count": null,
      "outputs": []
    },
    {
      "cell_type": "code",
      "metadata": {
        "colab": {
          "base_uri": "https://localhost:8080/"
        },
        "id": "vsLZUnjHFvoL",
        "outputId": "95027dd8-f90f-4914-e014-13462cac4d29"
      },
      "source": [
        "all_theta[0,:].shape"
      ],
      "execution_count": null,
      "outputs": [
        {
          "data": {
            "text/plain": [
              "(785,)"
            ]
          },
          "execution_count": 34,
          "metadata": {},
          "output_type": "execute_result"
        }
      ]
    },
    {
      "cell_type": "code",
      "metadata": {
        "id": "z6syo32Qgirw"
      },
      "source": [
        ""
      ],
      "execution_count": null,
      "outputs": []
    },
    {
      "cell_type": "code",
      "metadata": {
        "colab": {
          "base_uri": "https://localhost:8080/"
        },
        "id": "dN5KWVDLgd6A",
        "outputId": "d402dffa-eab3-4491-ea8f-d0a9fa14524b"
      },
      "source": [
        "from google.colab import drive\n",
        "drive.mount('/content/drive/')"
      ],
      "execution_count": null,
      "outputs": [
        {
          "output_type": "stream",
          "name": "stdout",
          "text": [
            "Mounted at /content/drive/\n"
          ]
        }
      ]
    },
    {
      "cell_type": "code",
      "metadata": {
        "id": "bOskPZ_CgqMB"
      },
      "source": [
        "all_theta = loadCSV(\"/content/drive/My Drive/MNIST-params/models/allthetanew.csv\")"
      ],
      "execution_count": null,
      "outputs": []
    },
    {
      "cell_type": "code",
      "metadata": {
        "id": "kHgWlq7tf-Tg"
      },
      "source": [
        "def create_op_vec(i):\n",
        "    op = np.zeros((10,1))\n",
        "    op[i] = 1\n",
        "    return op\n",
        "\n",
        "def oneHot(inp):\n",
        "  outp = []\n",
        "  for out in inp:\n",
        "    outp.append(create_op_vec(out))\n",
        "  return np.array(outp) "
      ],
      "execution_count": null,
      "outputs": []
    },
    {
      "cell_type": "code",
      "metadata": {
        "id": "TsN_6wZFfW0y"
      },
      "source": [
        "from tensorflow import keras\n",
        "import numpy as np\n",
        "handwriting_mnist = keras.datasets.mnist\n",
        "(train_images,train_labels),(test_images,test_labels) = handwriting_mnist.load_data()\n",
        "\n",
        "train_images = (train_images.reshape(len(train_images), 784)).T\n",
        "test_images = (test_images.reshape(len(test_images), 784))\n",
        "train_labels = train_labels\n",
        "test_labels = test_labels"
      ],
      "execution_count": null,
      "outputs": []
    },
    {
      "cell_type": "code",
      "metadata": {
        "colab": {
          "base_uri": "https://localhost:8080/"
        },
        "id": "88M2CuGZhTX2",
        "outputId": "6e72bcf3-c14c-4a7c-fbeb-8cb01b934ccb"
      },
      "source": [
        "o_test = np.ones((len(test_images),1), dtype= np.float64)\n",
        "test_images = np.concatenate((o_test, test_images),1)\n",
        "test_images.shape"
      ],
      "execution_count": null,
      "outputs": [
        {
          "output_type": "execute_result",
          "data": {
            "text/plain": [
              "(10000, 785)"
            ]
          },
          "metadata": {},
          "execution_count": 27
        }
      ]
    },
    {
      "cell_type": "code",
      "metadata": {
        "colab": {
          "base_uri": "https://localhost:8080/"
        },
        "id": "kXHREJl8iG6_",
        "outputId": "21246221-4b82-4008-d514-9d6dd22c5bea"
      },
      "source": [
        "pred2 = predict(test_images, test_labels, all_theta, 10)\n",
        "acc2 = accuracy(pred2, test_labels)"
      ],
      "execution_count": null,
      "outputs": [
        {
          "output_type": "stream",
          "name": "stdout",
          "text": [
            "Accuracy is:  91.07 \n",
            "\n"
          ]
        }
      ]
    },
    {
      "cell_type": "code",
      "metadata": {
        "colab": {
          "base_uri": "https://localhost:8080/"
        },
        "id": "0I-HhAQoignb",
        "outputId": "724376d3-2c60-4dd9-cb13-da61af814f1c"
      },
      "source": [
        "from sklearn import metrics\n",
        "print(metrics.classification_report(test_labels, pred2, digits = 4))"
      ],
      "execution_count": null,
      "outputs": [
        {
          "output_type": "stream",
          "name": "stdout",
          "text": [
            "              precision    recall  f1-score   support\n",
            "\n",
            "           0     0.9457    0.9776    0.9614       980\n",
            "           1     0.9592    0.9736    0.9663      1135\n",
            "           2     0.9271    0.8750    0.9003      1032\n",
            "           3     0.8952    0.9050    0.9000      1010\n",
            "           4     0.9070    0.9236    0.9152       982\n",
            "           5     0.9105    0.8330    0.8700       892\n",
            "           6     0.9276    0.9499    0.9386       958\n",
            "           7     0.9140    0.9095    0.9118      1028\n",
            "           8     0.8325    0.8778    0.8546       974\n",
            "           9     0.8832    0.8692    0.8761      1009\n",
            "\n",
            "    accuracy                         0.9107     10000\n",
            "   macro avg     0.9102    0.9094    0.9094     10000\n",
            "weighted avg     0.9110    0.9107    0.9105     10000\n",
            "\n"
          ]
        }
      ]
    },
    {
      "cell_type": "code",
      "metadata": {
        "id": "a7oo_9yVKEZg"
      },
      "source": [
        "np.savetxt(\"sample_data/alltheta.csv\",all_theta,delimiter=',')"
      ],
      "execution_count": null,
      "outputs": []
    }
  ]
}