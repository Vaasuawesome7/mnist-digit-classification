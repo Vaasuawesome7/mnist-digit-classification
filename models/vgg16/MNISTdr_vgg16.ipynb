{
  "nbformat": 4,
  "nbformat_minor": 0,
  "metadata": {
    "kernelspec": {
      "display_name": "Python 3",
      "language": "python",
      "name": "python3"
    },
    "language_info": {
      "name": "python",
      "version": "3.6.4",
      "mimetype": "text/x-python",
      "codemirror_mode": {
        "name": "ipython",
        "version": 3
      },
      "pygments_lexer": "ipython3",
      "nbconvert_exporter": "python",
      "file_extension": ".py"
    },
    "colab": {
      "name": "MNISTdr_vgg16.ipynb",
      "provenance": [],
      "collapsed_sections": []
    },
    "accelerator": "GPU"
  },
  "cells": [
    {
      "cell_type": "code",
      "metadata": {
        "_uuid": "8f2839f25d086af736a60e9eeb907d3b93b6e0e5",
        "_cell_guid": "b1076dfc-b9ad-4769-8c92-a6c4dae69d19",
        "trusted": true,
        "collapsed": true,
        "id": "Sh-iZSpH4Ofz"
      },
      "source": [
        "import numpy as np\n",
        "import pandas as pd\n",
        "import random\n",
        "import matplotlib.pyplot as plt\n",
        "from keras import layers ,regularizers\n",
        "from keras.layers import Input, Add, Dense, Activation,BatchNormalization, Flatten, Conv2D, AveragePooling2D, MaxPooling2D,Dropout\n",
        "from keras.models import Model\n",
        "from sklearn.preprocessing import LabelBinarizer\n",
        "\n",
        "from keras.preprocessing.image import ImageDataGenerator # for Data augmentation\n",
        "from keras.callbacks import ReduceLROnPlateau\n",
        "\n",
        "from tensorflow import keras"
      ],
      "execution_count": null,
      "outputs": []
    },
    {
      "cell_type": "code",
      "metadata": {
        "_cell_guid": "79c7e3d0-c299-4dcb-8224-4455121ee9b0",
        "collapsed": true,
        "_uuid": "d629ff2d2480ee46fbb7e2d37f6b5fab8052498a",
        "trusted": true,
        "id": "4KYXgXUg4Of5"
      },
      "source": [
        "def loadData():\n",
        "    ''' read training and testing images and reshape it to (m,28*28) and also read training labels\n",
        "    \n",
        "    - parameters \n",
        "    \n",
        "        - no inputs\n",
        "\n",
        "        - outputs :\n",
        "            - trainingX : np array of shape (42000 ,28,28) contain training images \n",
        "            - trainingY : np array of shape (42000 ,) contain training data labels \n",
        "            - testX : np array of shape(28000,28,28)\n",
        "    '''\n",
        "    \n",
        "    # trainPath = \"../input/train.csv\"\n",
        "    # testPath = \"../input/test.csv\"\n",
        "    # training_frame = pd.DataFrame(pd.read_csv(trainPath))\n",
        "    # test_frame = pd.DataFrame(pd.read_csv(testPath))\n",
        "    # trainingY = np.array(training_frame['label'])\n",
        "    # index = [\"pixel\"+str(x) for x in range(784)] # generate list of columns indices of data frame to read pixels value by it \n",
        "    # trainingX = np.array(training_frame[index])\n",
        "    # trainingX= trainingX.reshape(trainingX.shape[0],28,28,1)\n",
        "    # testX = np.array(test_frame[index])\n",
        "    # testX = testX.reshape(testX.shape[0],28,28,1)\n",
        "\n",
        "    # LOADING DATA\n",
        "    # Loading Data\n",
        "    handwriting_mnist = keras.datasets.mnist\n",
        "    (train_images,train_labels),(test_images,test_labels) = handwriting_mnist.load_data()\n",
        "    train_images = train_images.reshape(len(train_images),28,28,1)\n",
        "    test_images = test_images.reshape(len(test_images),28,28,1)\n",
        "\n",
        "    return train_images, train_labels , test_images, test_labels\n",
        "    "
      ],
      "execution_count": null,
      "outputs": []
    },
    {
      "cell_type": "code",
      "metadata": {
        "trusted": true,
        "_uuid": "d35a060d13581901912116326f4b2bc8a6d5f3b9",
        "collapsed": true,
        "id": "ygEqy4kx4Of6"
      },
      "source": [
        "trainingX , trainingY , testX, testY = loadData()"
      ],
      "execution_count": null,
      "outputs": []
    },
    {
      "cell_type": "code",
      "metadata": {
        "trusted": true,
        "_uuid": "aade795c84ae40f7d2bda6522cc43c5be2e7380e",
        "collapsed": true,
        "colab": {
          "base_uri": "https://localhost:8080/"
        },
        "id": "7NktVSh24Of7",
        "outputId": "da1fe8bd-f7df-45f0-8a0e-ca0cd3503b95"
      },
      "source": [
        "# checking the dimensions\n",
        "print(\"training x : \",trainingX.shape)\n",
        "print(\"training y : \",trainingY.shape)\n",
        "print(\"test x : \",testX.shape)"
      ],
      "execution_count": null,
      "outputs": [
        {
          "output_type": "stream",
          "name": "stdout",
          "text": [
            "training x :  (60000, 28, 28, 1)\n",
            "training y :  (60000,)\n",
            "test x :  (10000, 28, 28, 1)\n"
          ]
        }
      ]
    },
    {
      "cell_type": "code",
      "metadata": {
        "trusted": true,
        "collapsed": true,
        "_uuid": "28e046e46b09a4d280c91c9301537aef360584e4",
        "id": "FWlTFnZr4Of7"
      },
      "source": [
        "def oneHot(y):\n",
        "    ''' convert labels into one hot coding \n",
        "        parameters:\n",
        "            - input : list of labels \n",
        "            - output : np array of one hot encoding \n",
        "    '''\n",
        "    encoder = LabelBinarizer()\n",
        "    y = encoder.fit_transform(y)\n",
        "    return y"
      ],
      "execution_count": null,
      "outputs": []
    },
    {
      "cell_type": "code",
      "metadata": {
        "trusted": true,
        "collapsed": true,
        "_uuid": "feb3bc9d09abec8989efcc6fa2e199fe42ab0ccc",
        "id": "lQSA7j8e4Of8"
      },
      "source": [
        "# this fun plot example of our images data \n",
        "def plot_figures(x,y,nrows = 3, ncols=4):\n",
        "    \"\"\"Plot random figures of data.\n",
        "\n",
        "    Parameters\n",
        "    ----------\n",
        "    x : Images\n",
        "    y : labels\n",
        "    ncols : number of columns of subplots wanted in the display\n",
        "    nrows : number of rows of subplots wanted in the figure\n",
        "    \"\"\"\n",
        "    # generate random indexs \n",
        "    indexs = random.sample(range(0, len(y)), nrows*ncols)\n",
        "    \n",
        "    x = x.reshape(x.shape[0],28,28)\n",
        "    fig, axeslist = plt.subplots(ncols=ncols, nrows=nrows,figsize=(10,10))\n",
        "    for ind,i in enumerate(indexs):\n",
        "        axeslist.ravel()[ind].imshow(x[i], cmap=plt.gray())\n",
        "        axeslist.ravel()[ind].set_title(y[i])\n",
        "        axeslist.ravel()[ind].set_axis_off()\n",
        "    #plt.tight_layout() # optional"
      ],
      "execution_count": null,
      "outputs": []
    },
    {
      "cell_type": "code",
      "metadata": {
        "trusted": true,
        "_uuid": "563a967cae0c97056b43acd79e61fdfeae65b1ee",
        "collapsed": true,
        "colab": {
          "base_uri": "https://localhost:8080/",
          "height": 552
        },
        "id": "dMp2uaHY4Of9",
        "outputId": "6e26ecc7-b9d1-44b4-dfed-37b801e877dd"
      },
      "source": [
        "plot_figures(x = trainingX , y = trainingY)"
      ],
      "execution_count": null,
      "outputs": [
        {
          "output_type": "display_data",
          "data": {
            "image/png": "[encoded data removed]",
            "text/plain": [
              "<Figure size 720x720 with 12 Axes>"
            ]
          },
          "metadata": {
            "needs_background": "light"
          }
        }
      ]
    },
    {
      "cell_type": "code",
      "metadata": {
        "trusted": true,
        "collapsed": true,
        "_uuid": "40096ffe3fca2e7940898c0e76e2c8adf0a27392",
        "id": "vB5sjzl54Of-"
      },
      "source": [
        "## build our model \n",
        "def vgg16(trainingX , trainingY):\n",
        "    \"\"\" implmentation of VGG16 model\n",
        "    \n",
        "    args:\n",
        "        input:\n",
        "            - trainingX : np array contain training data \n",
        "            - trainingY : np array contain training labels with out one hot coding -we will do this later in this fuc - \n",
        "            \n",
        "        output:\n",
        "            - mode : our keras mode of VGG16 \n",
        "            - trainingY : return training y after one hot encoding\n",
        "    \n",
        "    Architecture :\n",
        "            -> conv3-64 -> conv3-64\n",
        "            -> maxpool \n",
        "            -> conv3-128 ->  conv3-128\n",
        "            -> maxpool\n",
        "            -> conv3-256 -> conv3-256 -> conv1-256\n",
        "            -> maxpool\n",
        "            -> conv3-512 -> conv3-512 -> conv1-512\n",
        "            -> maxpool\n",
        "            -> conv3-512 -> conv3-512 -> conv1-512\n",
        "            -> maxpool\n",
        "            -> FC100 'relu'\n",
        "            -> FC50 'relu'\n",
        "            -> FC10  'softmax'\n",
        "            \n",
        "    \"\"\"\n",
        "\n",
        "    # create input tensor \n",
        "    inputShape = trainingX.shape\n",
        "    modelInput = Input(inputShape[1:])\n",
        "    x = modelInput\n",
        "    print(x.shape)\n",
        "    # one hot encoding for our labels\n",
        "    trainingY = oneHot(trainingY)\n",
        "    \n",
        "    # normalization \n",
        "    trainingX = trainingX /255.0\n",
        "    print(trainingY.shape)\n",
        "    # build the model\n",
        "    \n",
        "    x = Conv2D(64,(3,3),padding=\"same\", input_shape=(28,28,1),activation = 'relu',strides=(1,1),name='conv1',kernel_initializer='glorot_uniform')(x)\n",
        "    x = Conv2D(64,(3,3),padding=\"same\",activation = 'relu',strides=(1,1),name='conv2',kernel_initializer='glorot_uniform')(x)\n",
        "    \n",
        "    x =   MaxPooling2D((3, 3), strides=(2, 2) ,padding =\"same\",name=\"maxpool1\")(x)\n",
        "    \n",
        "    x = Conv2D(128,(3,3),padding=\"same\",activation = 'relu',strides=(1,1),name='conv3',kernel_initializer='glorot_uniform')(x)\n",
        "    x = Conv2D(128,(3,3),padding=\"same\",strides=(1,1),name='conv4',kernel_initializer='glorot_uniform',kernel_regularizer=regularizers.l2(0.01))(x)\n",
        "    \n",
        "    x = MaxPooling2D((3, 3), strides=(2, 2) ,padding =\"same\",name=\"maxpool2\")(x)\n",
        "    \n",
        "    x = Conv2D(256,(3,3),padding=\"same\",strides=(1,1),activation = 'relu',name='conv5',kernel_initializer='glorot_uniform')(x)\n",
        "    x = Conv2D(256,(3,3),padding=\"same\",strides=(1,1),activation = 'relu',name='conv6',kernel_initializer='glorot_uniform')(x)\n",
        "    x = Conv2D(256,(1,1),padding=\"same\",strides=(1,1),activation = 'relu',name='conv7',kernel_initializer='glorot_uniform',kernel_regularizer=regularizers.l2(0.01))(x)\n",
        "    \n",
        "    x = MaxPooling2D((3, 3), strides=(2, 2) ,padding =\"valid\",name=\"maxpool3\")(x)\n",
        "\n",
        "    x = Conv2D(512,(3,3),padding=\"same\",strides=(1,1),activation = 'relu',name='conv8',kernel_initializer='glorot_uniform')(x)\n",
        "    x = Conv2D(512,(3,3),padding=\"same\",strides=(1,1),activation = 'relu',name='conv9',kernel_initializer='glorot_uniform')(x)\n",
        "    x = Conv2D(512,(1,1),padding=\"same\",strides=(1,1),activation = 'relu',name='conv10',kernel_initializer='glorot_uniform',kernel_regularizer=regularizers.l2(0.01))(x)\n",
        "    \n",
        "    x = MaxPooling2D((3, 3), strides=(2, 2) ,padding =\"same\",name=\"maxpool4\")(x)\n",
        "    \n",
        "    x = Conv2D(512,(3,3),padding=\"same\",strides=(1,1),activation = 'relu',name='conv11',kernel_initializer='glorot_uniform')(x)\n",
        "    x = Conv2D(512,(3,3),padding=\"same\",strides=(1,1),activation = 'relu',name='conv12',kernel_initializer='glorot_uniform')(x)\n",
        "    x = Conv2D(512,(1,1),padding=\"same\",strides=(1,1),activation = 'relu',name='conv13',kernel_initializer='glorot_uniform',kernel_regularizer=regularizers.l2(0.01))(x)\n",
        "    \n",
        "    x = MaxPooling2D((3, 3), strides=(2, 2) ,padding =\"same\",name=\"maxpool5\")(x)\n",
        "    \n",
        "    #flatten x to be FC in next layer\n",
        "    x = Flatten()(x)\n",
        "    \n",
        "    #fc layers\n",
        "    x = Dense(100,name=\"fc1\", kernel_initializer = 'glorot_uniform',activation='relu')(x)\n",
        "    x = Dense(100,name=\"fc2\", kernel_initializer = 'glorot_uniform',activation='relu')(x)\n",
        "    x = Dense(10,name=\"fc3\", kernel_initializer = 'glorot_uniform',activation='softmax')(x)\n",
        "\n",
        "    #model\n",
        "    model = Model(inputs = modelInput, outputs = x, name='vgg16')\n",
        "\n",
        "    return model,trainingY\n",
        "    \n",
        "    \n",
        "    "
      ],
      "execution_count": null,
      "outputs": []
    },
    {
      "cell_type": "code",
      "metadata": {
        "trusted": true,
        "_uuid": "3d5af295ec9981caad1bfcc378eb94fcb9046079",
        "collapsed": true,
        "colab": {
          "base_uri": "https://localhost:8080/"
        },
        "id": "IkT0NKUo4Of_",
        "outputId": "636893a4-f452-4795-e231-1e0d1ddb6692"
      },
      "source": [
        "model,trainingY = vgg16(trainingX,trainingY)\n",
        "model.compile(optimizer='adam',loss='categorical_crossentropy',metrics=['accuracy'])\n",
        "model.summary()"
      ],
      "execution_count": null,
      "outputs": [
        {
          "output_type": "stream",
          "name": "stdout",
          "text": [
            "(None, 28, 28, 1)\n",
            "(60000, 10)\n",
            "Model: \"vgg16\"\n",
            "_________________________________________________________________\n",
            " Layer (type)                Output Shape              Param #   \n",
            "=================================================================\n",
            " input_1 (InputLayer)        [(None, 28, 28, 1)]       0         \n",
            "                                                                 \n",
            " conv1 (Conv2D)              (None, 28, 28, 64)        640       \n",
            "                                                                 \n",
            " conv2 (Conv2D)              (None, 28, 28, 64)        36928     \n",
            "                                                                 \n",
            " maxpool1 (MaxPooling2D)     (None, 14, 14, 64)        0         \n",
            "                                                                 \n",
            " conv3 (Conv2D)              (None, 14, 14, 128)       73856     \n",
            "                                                                 \n",
            " conv4 (Conv2D)              (None, 14, 14, 128)       147584    \n",
            "                                                                 \n",
            " maxpool2 (MaxPooling2D)     (None, 7, 7, 128)         0         \n",
            "                                                                 \n",
            " conv5 (Conv2D)              (None, 7, 7, 256)         295168    \n",
            "                                                                 \n",
            " conv6 (Conv2D)              (None, 7, 7, 256)         590080    \n",
            "                                                                 \n",
            " conv7 (Conv2D)              (None, 7, 7, 256)         65792     \n",
            "                                                                 \n",
            " maxpool3 (MaxPooling2D)     (None, 3, 3, 256)         0         \n",
            "                                                                 \n",
            " conv8 (Conv2D)              (None, 3, 3, 512)         1180160   \n",
            "                                                                 \n",
            " conv9 (Conv2D)              (None, 3, 3, 512)         2359808   \n",
            "                                                                 \n",
            " conv10 (Conv2D)             (None, 3, 3, 512)         262656    \n",
            "                                                                 \n",
            " maxpool4 (MaxPooling2D)     (None, 2, 2, 512)         0         \n",
            "                                                                 \n",
            " conv11 (Conv2D)             (None, 2, 2, 512)         2359808   \n",
            "                                                                 \n",
            " conv12 (Conv2D)             (None, 2, 2, 512)         2359808   \n",
            "                                                                 \n",
            " conv13 (Conv2D)             (None, 2, 2, 512)         262656    \n",
            "                                                                 \n",
            " maxpool5 (MaxPooling2D)     (None, 1, 1, 512)         0         \n",
            "                                                                 \n",
            " flatten (Flatten)           (None, 512)               0         \n",
            "                                                                 \n",
            " fc1 (Dense)                 (None, 100)               51300     \n",
            "                                                                 \n",
            " fc2 (Dense)                 (None, 100)               10100     \n",
            "                                                                 \n",
            " fc3 (Dense)                 (None, 10)                1010      \n",
            "                                                                 \n",
            "=================================================================\n",
            "Total params: 10,057,354\n",
            "Trainable params: 10,057,354\n",
            "Non-trainable params: 0\n",
            "_________________________________________________________________\n"
          ]
        }
      ]
    },
    {
      "cell_type": "code",
      "metadata": {
        "trusted": true,
        "collapsed": true,
        "_uuid": "aa02188b32f9354d4eff7a35d319c8b4f38a611a",
        "id": "w_p_24cy4OgB"
      },
      "source": [
        "# reduce LR \n",
        "lr_reduce = ReduceLROnPlateau(monitor='val_accuracy', \n",
        "                                            patience=3, \n",
        "                                            verbose=1, \n",
        "                                            factor=0.5, \n",
        "                                            min_lr=0.00001)"
      ],
      "execution_count": null,
      "outputs": []
    },
    {
      "cell_type": "code",
      "metadata": {
        "trusted": true,
        "_uuid": "ae70d1ef98021df45ed03c692ddba2f41d16f03f",
        "collapsed": true,
        "id": "1iL81_eT4OgC"
      },
      "source": [
        "# Data augmentation\n",
        "aug  = ImageDataGenerator(\n",
        "        featurewise_center=False,  # set input mean to 0 over the dataset\n",
        "        samplewise_center=False,  # set each sample mean to 0\n",
        "        featurewise_std_normalization=False,  # divide inputs by std of the dataset\n",
        "        samplewise_std_normalization=False,  # divide each input by its std\n",
        "        zca_whitening=False,  # apply ZCA whitening\n",
        "        rotation_range=10,  # randomly rotate images in the range (degrees, 0 to 180)\n",
        "        zoom_range = 0.1, # Randomly zoom image \n",
        "        width_shift_range=0.1,  # randomly shift images horizontally (fraction of total width)\n",
        "        height_shift_range=0.1,  # randomly shift images vertically (fraction of total height)\n",
        "        horizontal_flip=False,  # randomly flip images\n",
        "        vertical_flip=False,\n",
        "        data_format = 'channels_last')  # randomly flip images\n",
        "aug.fit(trainingX)"
      ],
      "execution_count": null,
      "outputs": []
    },
    {
      "cell_type": "code",
      "metadata": {
        "trusted": true,
        "_uuid": "4df75c39e571e4b253f1b168b1812f0c1edf434c",
        "id": "RKWVvtCk4OgC"
      },
      "source": [
        "from sklearn.model_selection import train_test_split\n",
        "trainingX, X_val, trainingY, Y_val = train_test_split(trainingX, trainingY, test_size = 0.1, random_state=2)"
      ],
      "execution_count": null,
      "outputs": []
    },
    {
      "cell_type": "code",
      "metadata": {
        "trusted": true,
        "_uuid": "20e201e74ff80565e094dad5dba913c4d75b9fd4",
        "colab": {
          "base_uri": "https://localhost:8080/"
        },
        "id": "uM9svvCb4OgD",
        "outputId": "29aa6267-46ac-4752-a5a3-7508ca055d2d"
      },
      "source": [
        "modelHistory = model.fit_generator(aug.flow(trainingX,\n",
        "                    trainingY,batch_size = 64),\n",
        "                    epochs = 40,\n",
        "                    validation_data=(X_val,Y_val), \n",
        "                    shuffle=True,\n",
        "                    verbose = 2,\n",
        "                    callbacks = [lr_reduce])"
      ],
      "execution_count": null,
      "outputs": [
        {
          "output_type": "stream",
          "name": "stderr",
          "text": [
            "/usr/local/lib/python3.7/dist-packages/ipykernel_launcher.py:7: UserWarning: `Model.fit_generator` is deprecated and will be removed in a future version. Please use `Model.fit`, which supports generators.\n",
            "  import sys\n"
          ]
        },
        {
          "output_type": "stream",
          "name": "stdout",
          "text": [
            "Epoch 1/40\n",
            "844/844 - 68s - loss: 2.6893 - accuracy: 0.7808 - val_loss: 0.5586 - val_accuracy: 0.9697 - lr: 0.0010 - 68s/epoch - 80ms/step\n",
            "Epoch 2/40\n",
            "844/844 - 52s - loss: 0.3770 - accuracy: 0.9671 - val_loss: 0.1871 - val_accuracy: 0.9808 - lr: 0.0010 - 52s/epoch - 62ms/step\n",
            "Epoch 3/40\n",
            "844/844 - 52s - loss: 0.2103 - accuracy: 0.9747 - val_loss: 0.1639 - val_accuracy: 0.9820 - lr: 0.0010 - 52s/epoch - 61ms/step\n",
            "Epoch 4/40\n",
            "844/844 - 52s - loss: 0.1768 - accuracy: 0.9763 - val_loss: 0.1777 - val_accuracy: 0.9778 - lr: 0.0010 - 52s/epoch - 61ms/step\n",
            "Epoch 5/40\n",
            "844/844 - 52s - loss: 0.1571 - accuracy: 0.9797 - val_loss: 0.1559 - val_accuracy: 0.9800 - lr: 0.0010 - 52s/epoch - 61ms/step\n",
            "Epoch 6/40\n",
            "\n",
            "Epoch 00006: ReduceLROnPlateau reducing learning rate to 0.0005000000237487257.\n",
            "844/844 - 52s - loss: 0.1448 - accuracy: 0.9811 - val_loss: 0.1799 - val_accuracy: 0.9795 - lr: 0.0010 - 52s/epoch - 61ms/step\n",
            "Epoch 7/40\n",
            "844/844 - 52s - loss: 0.0861 - accuracy: 0.9885 - val_loss: 0.0725 - val_accuracy: 0.9900 - lr: 5.0000e-04 - 52s/epoch - 61ms/step\n",
            "Epoch 8/40\n",
            "844/844 - 52s - loss: 0.0728 - accuracy: 0.9897 - val_loss: 0.0823 - val_accuracy: 0.9877 - lr: 5.0000e-04 - 52s/epoch - 61ms/step\n",
            "Epoch 9/40\n",
            "844/844 - 52s - loss: 0.0730 - accuracy: 0.9894 - val_loss: 0.0705 - val_accuracy: 0.9893 - lr: 5.0000e-04 - 52s/epoch - 61ms/step\n",
            "Epoch 10/40\n",
            "\n",
            "Epoch 00010: ReduceLROnPlateau reducing learning rate to 0.0002500000118743628.\n",
            "844/844 - 52s - loss: 0.0720 - accuracy: 0.9891 - val_loss: 0.0653 - val_accuracy: 0.9898 - lr: 5.0000e-04 - 52s/epoch - 61ms/step\n",
            "Epoch 11/40\n",
            "844/844 - 51s - loss: 0.0521 - accuracy: 0.9927 - val_loss: 0.0429 - val_accuracy: 0.9938 - lr: 2.5000e-04 - 51s/epoch - 61ms/step\n",
            "Epoch 12/40\n",
            "844/844 - 51s - loss: 0.0460 - accuracy: 0.9929 - val_loss: 0.0458 - val_accuracy: 0.9932 - lr: 2.5000e-04 - 51s/epoch - 61ms/step\n",
            "Epoch 13/40\n",
            "844/844 - 52s - loss: 0.0430 - accuracy: 0.9932 - val_loss: 0.0412 - val_accuracy: 0.9942 - lr: 2.5000e-04 - 52s/epoch - 61ms/step\n",
            "Epoch 14/40\n",
            "844/844 - 52s - loss: 0.0413 - accuracy: 0.9937 - val_loss: 0.0408 - val_accuracy: 0.9947 - lr: 2.5000e-04 - 52s/epoch - 61ms/step\n",
            "Epoch 15/40\n",
            "844/844 - 51s - loss: 0.0405 - accuracy: 0.9935 - val_loss: 0.0429 - val_accuracy: 0.9938 - lr: 2.5000e-04 - 51s/epoch - 61ms/step\n",
            "Epoch 16/40\n",
            "844/844 - 51s - loss: 0.0406 - accuracy: 0.9932 - val_loss: 0.0424 - val_accuracy: 0.9943 - lr: 2.5000e-04 - 51s/epoch - 61ms/step\n",
            "Epoch 17/40\n",
            "\n",
            "Epoch 00017: ReduceLROnPlateau reducing learning rate to 0.0001250000059371814.\n",
            "844/844 - 51s - loss: 0.0398 - accuracy: 0.9931 - val_loss: 0.0445 - val_accuracy: 0.9925 - lr: 2.5000e-04 - 51s/epoch - 61ms/step\n",
            "Epoch 18/40\n",
            "844/844 - 51s - loss: 0.0302 - accuracy: 0.9955 - val_loss: 0.0321 - val_accuracy: 0.9957 - lr: 1.2500e-04 - 51s/epoch - 61ms/step\n",
            "Epoch 19/40\n",
            "844/844 - 52s - loss: 0.0274 - accuracy: 0.9959 - val_loss: 0.0335 - val_accuracy: 0.9952 - lr: 1.2500e-04 - 52s/epoch - 61ms/step\n",
            "Epoch 20/40\n",
            "844/844 - 51s - loss: 0.0253 - accuracy: 0.9959 - val_loss: 0.0389 - val_accuracy: 0.9937 - lr: 1.2500e-04 - 51s/epoch - 61ms/step\n",
            "Epoch 21/40\n",
            "\n",
            "Epoch 00021: ReduceLROnPlateau reducing learning rate to 6.25000029685907e-05.\n",
            "844/844 - 51s - loss: 0.0260 - accuracy: 0.9955 - val_loss: 0.0294 - val_accuracy: 0.9953 - lr: 1.2500e-04 - 51s/epoch - 61ms/step\n",
            "Epoch 22/40\n",
            "844/844 - 51s - loss: 0.0218 - accuracy: 0.9966 - val_loss: 0.0269 - val_accuracy: 0.9957 - lr: 6.2500e-05 - 51s/epoch - 61ms/step\n",
            "Epoch 23/40\n",
            "844/844 - 51s - loss: 0.0182 - accuracy: 0.9975 - val_loss: 0.0271 - val_accuracy: 0.9962 - lr: 6.2500e-05 - 51s/epoch - 61ms/step\n",
            "Epoch 24/40\n",
            "844/844 - 51s - loss: 0.0188 - accuracy: 0.9970 - val_loss: 0.0287 - val_accuracy: 0.9958 - lr: 6.2500e-05 - 51s/epoch - 61ms/step\n",
            "Epoch 25/40\n",
            "844/844 - 51s - loss: 0.0180 - accuracy: 0.9975 - val_loss: 0.0282 - val_accuracy: 0.9958 - lr: 6.2500e-05 - 51s/epoch - 61ms/step\n",
            "Epoch 26/40\n",
            "\n",
            "Epoch 00026: ReduceLROnPlateau reducing learning rate to 3.125000148429535e-05.\n",
            "844/844 - 51s - loss: 0.0173 - accuracy: 0.9972 - val_loss: 0.0251 - val_accuracy: 0.9960 - lr: 6.2500e-05 - 51s/epoch - 61ms/step\n",
            "Epoch 27/40\n",
            "844/844 - 51s - loss: 0.0160 - accuracy: 0.9978 - val_loss: 0.0251 - val_accuracy: 0.9958 - lr: 3.1250e-05 - 51s/epoch - 61ms/step\n",
            "Epoch 28/40\n",
            "844/844 - 51s - loss: 0.0152 - accuracy: 0.9977 - val_loss: 0.0273 - val_accuracy: 0.9950 - lr: 3.1250e-05 - 51s/epoch - 61ms/step\n",
            "Epoch 29/40\n",
            "\n",
            "Epoch 00029: ReduceLROnPlateau reducing learning rate to 1.5625000742147677e-05.\n",
            "844/844 - 51s - loss: 0.0151 - accuracy: 0.9976 - val_loss: 0.0267 - val_accuracy: 0.9958 - lr: 3.1250e-05 - 51s/epoch - 61ms/step\n",
            "Epoch 30/40\n",
            "844/844 - 51s - loss: 0.0140 - accuracy: 0.9981 - val_loss: 0.0269 - val_accuracy: 0.9952 - lr: 1.5625e-05 - 51s/epoch - 61ms/step\n",
            "Epoch 31/40\n",
            "844/844 - 51s - loss: 0.0142 - accuracy: 0.9978 - val_loss: 0.0260 - val_accuracy: 0.9960 - lr: 1.5625e-05 - 51s/epoch - 61ms/step\n",
            "Epoch 32/40\n",
            "\n",
            "Epoch 00032: ReduceLROnPlateau reducing learning rate to 1e-05.\n",
            "844/844 - 51s - loss: 0.0129 - accuracy: 0.9982 - val_loss: 0.0266 - val_accuracy: 0.9962 - lr: 1.5625e-05 - 51s/epoch - 61ms/step\n",
            "Epoch 33/40\n",
            "844/844 - 51s - loss: 0.0127 - accuracy: 0.9981 - val_loss: 0.0259 - val_accuracy: 0.9958 - lr: 1.0000e-05 - 51s/epoch - 61ms/step\n",
            "Epoch 34/40\n",
            "844/844 - 51s - loss: 0.0125 - accuracy: 0.9983 - val_loss: 0.0265 - val_accuracy: 0.9957 - lr: 1.0000e-05 - 51s/epoch - 61ms/step\n",
            "Epoch 35/40\n",
            "844/844 - 51s - loss: 0.0122 - accuracy: 0.9983 - val_loss: 0.0261 - val_accuracy: 0.9960 - lr: 1.0000e-05 - 51s/epoch - 61ms/step\n",
            "Epoch 36/40\n",
            "844/844 - 51s - loss: 0.0118 - accuracy: 0.9983 - val_loss: 0.0262 - val_accuracy: 0.9957 - lr: 1.0000e-05 - 51s/epoch - 61ms/step\n",
            "Epoch 37/40\n",
            "844/844 - 51s - loss: 0.0124 - accuracy: 0.9982 - val_loss: 0.0254 - val_accuracy: 0.9958 - lr: 1.0000e-05 - 51s/epoch - 61ms/step\n",
            "Epoch 38/40\n",
            "844/844 - 51s - loss: 0.0116 - accuracy: 0.9984 - val_loss: 0.0262 - val_accuracy: 0.9960 - lr: 1.0000e-05 - 51s/epoch - 61ms/step\n",
            "Epoch 39/40\n",
            "844/844 - 51s - loss: 0.0114 - accuracy: 0.9985 - val_loss: 0.0262 - val_accuracy: 0.9957 - lr: 1.0000e-05 - 51s/epoch - 61ms/step\n",
            "Epoch 40/40\n",
            "844/844 - 51s - loss: 0.0123 - accuracy: 0.9982 - val_loss: 0.0259 - val_accuracy: 0.9955 - lr: 1.0000e-05 - 51s/epoch - 61ms/step\n"
          ]
        }
      ]
    },
    {
      "cell_type": "code",
      "metadata": {
        "trusted": true,
        "collapsed": true,
        "_uuid": "993885c6b36b25aca539bdd07406f95ea1a9a899",
        "id": "ziT-FOlx4OgD"
      },
      "source": [
        "def plotModelHistory(modeHistory):\n",
        "    # summarize history for accuracy\n",
        "    history = modeHistory\n",
        "    plt.plot(history.history['acc'])\n",
        "    plt.plot(history.history['val_acc'])\n",
        "    plt.title('model accuracy')\n",
        "    plt.ylabel('accuracy')\n",
        "    plt.xlabel('epoch')\n",
        "    plt.legend(['train', 'test'], loc='upper left')\n",
        "    plt.show()\n",
        "    # summarize history for loss\n",
        "    plt.plot(history.history['loss'])\n",
        "    plt.plot(history.history['val_loss'])\n",
        "    plt.title('model loss')\n",
        "    plt.ylabel('loss')\n",
        "    plt.xlabel('epoch')\n",
        "    plt.legend(['train', 'test'], loc='upper left')\n",
        "    plt.show()"
      ],
      "execution_count": null,
      "outputs": []
    },
    {
      "cell_type": "code",
      "metadata": {
        "trusted": true,
        "_uuid": "b84442a64048149a81be11b524bd5dd93e172ab8",
        "colab": {
          "base_uri": "https://localhost:8080/",
          "height": 287
        },
        "id": "JK5Ty31n4OgD",
        "outputId": "659c96a0-43e4-4a1b-e6f2-dc54bebef71e"
      },
      "source": [
        "plotModelHistory(modelHistory)"
      ],
      "execution_count": null,
      "outputs": [
        {
          "output_type": "error",
          "ename": "KeyError",
          "evalue": "ignored",
          "traceback": [
            "\u001b[0;31m---------------------------------------------------------------------------\u001b[0m",
            "\u001b[0;31mKeyError\u001b[0m                                  Traceback (most recent call last)",
            "\u001b[0;32m<ipython-input-15-cd763ec4e9b7>\u001b[0m in \u001b[0;36m<module>\u001b[0;34m()\u001b[0m\n\u001b[0;32m----> 1\u001b[0;31m \u001b[0mplotModelHistory\u001b[0m\u001b[0;34m(\u001b[0m\u001b[0mmodelHistory\u001b[0m\u001b[0;34m)\u001b[0m\u001b[0;34m\u001b[0m\u001b[0;34m\u001b[0m\u001b[0m\n\u001b[0m",
            "\u001b[0;32m<ipython-input-14-e83a85372cda>\u001b[0m in \u001b[0;36mplotModelHistory\u001b[0;34m(modeHistory)\u001b[0m\n\u001b[1;32m      2\u001b[0m     \u001b[0;31m# summarize history for accuracy\u001b[0m\u001b[0;34m\u001b[0m\u001b[0;34m\u001b[0m\u001b[0;34m\u001b[0m\u001b[0m\n\u001b[1;32m      3\u001b[0m     \u001b[0mhistory\u001b[0m \u001b[0;34m=\u001b[0m \u001b[0mmodeHistory\u001b[0m\u001b[0;34m\u001b[0m\u001b[0;34m\u001b[0m\u001b[0m\n\u001b[0;32m----> 4\u001b[0;31m     \u001b[0mplt\u001b[0m\u001b[0;34m.\u001b[0m\u001b[0mplot\u001b[0m\u001b[0;34m(\u001b[0m\u001b[0mhistory\u001b[0m\u001b[0;34m.\u001b[0m\u001b[0mhistory\u001b[0m\u001b[0;34m[\u001b[0m\u001b[0;34m'acc'\u001b[0m\u001b[0;34m]\u001b[0m\u001b[0;34m)\u001b[0m\u001b[0;34m\u001b[0m\u001b[0;34m\u001b[0m\u001b[0m\n\u001b[0m\u001b[1;32m      5\u001b[0m     \u001b[0mplt\u001b[0m\u001b[0;34m.\u001b[0m\u001b[0mplot\u001b[0m\u001b[0;34m(\u001b[0m\u001b[0mhistory\u001b[0m\u001b[0;34m.\u001b[0m\u001b[0mhistory\u001b[0m\u001b[0;34m[\u001b[0m\u001b[0;34m'val_acc'\u001b[0m\u001b[0;34m]\u001b[0m\u001b[0;34m)\u001b[0m\u001b[0;34m\u001b[0m\u001b[0;34m\u001b[0m\u001b[0m\n\u001b[1;32m      6\u001b[0m     \u001b[0mplt\u001b[0m\u001b[0;34m.\u001b[0m\u001b[0mtitle\u001b[0m\u001b[0;34m(\u001b[0m\u001b[0;34m'model accuracy'\u001b[0m\u001b[0;34m)\u001b[0m\u001b[0;34m\u001b[0m\u001b[0;34m\u001b[0m\u001b[0m\n",
            "\u001b[0;31mKeyError\u001b[0m: 'acc'"
          ]
        }
      ]
    },
    {
      "cell_type": "code",
      "metadata": {
        "trusted": true,
        "collapsed": true,
        "_uuid": "fa370f7165b0988e0f772c819f67073a498bc8ce",
        "id": "6TVzUg0D4OgE"
      },
      "source": [
        "#save model\n",
        "model.save_weights('vgg16_wieghts.h5')\n",
        "model.save('vgg16-digitRecognizer_keras.h5')"
      ],
      "execution_count": null,
      "outputs": []
    },
    {
      "cell_type": "code",
      "metadata": {
        "trusted": true,
        "collapsed": true,
        "_uuid": "d8af094c8338e194ee8f6846571670909258f358",
        "id": "0q__qhO04OgE"
      },
      "source": [
        "# create array for testY\n",
        "m = testX.shape[0]\n",
        "testY = np.zeros((m,1))\n",
        "testY = model.predict(testX)"
      ],
      "execution_count": null,
      "outputs": []
    },
    {
      "cell_type": "code",
      "metadata": {
        "colab": {
          "base_uri": "https://localhost:8080/"
        },
        "id": "UK8LiSGa98TE",
        "outputId": "5d29e3d9-3568-418b-8185-288f32397410"
      },
      "source": [
        "model.evaluate(testX,oneHot(testY))"
      ],
      "execution_count": null,
      "outputs": [
        {
          "output_type": "stream",
          "name": "stdout",
          "text": [
            "313/313 [==============================] - 5s 16ms/step - loss: 0.0198 - accuracy: 0.9960\n"
          ]
        },
        {
          "output_type": "execute_result",
          "data": {
            "text/plain": [
              "[0.019807148724794388, 0.9959999918937683]"
            ]
          },
          "metadata": {},
          "execution_count": 27
        }
      ]
    },
    {
      "cell_type": "code",
      "metadata": {
        "colab": {
          "base_uri": "https://localhost:8080/"
        },
        "id": "LwXLay3fJTqd",
        "outputId": "49e7530b-3aaf-48f7-9a06-9f58044e9344"
      },
      "source": [
        "testY.shape"
      ],
      "execution_count": null,
      "outputs": [
        {
          "output_type": "execute_result",
          "data": {
            "text/plain": [
              "(10000,)"
            ]
          },
          "metadata": {},
          "execution_count": 26
        }
      ]
    },
    {
      "cell_type": "code",
      "metadata": {
        "trusted": true,
        "_uuid": "d2d17a6d9a6d4bdf15e46ba4dd85415cd4defd55",
        "id": "vbt6b3ez4OgE"
      },
      "source": [
        "# plot some test image with there predicted label\n",
        "finalY = np.argmax(testY,axis=1)\n",
        "plot_figures(testX,finalY,nrows = 3, ncols=4)\n"
      ],
      "execution_count": null,
      "outputs": []
    },
    {
      "cell_type": "code",
      "metadata": {
        "trusted": true,
        "collapsed": true,
        "_uuid": "d500511a6b007b274ce56490d99566a7080031f5",
        "id": "RtpoN-P-4OgF"
      },
      "source": [
        "# save submission file \n",
        "frame = pd.DataFrame({'Label': finalY.T.squeeze()})\n",
        "frame = frame.reset_index(drop=True)\n",
        "frame.index += 1 \n",
        "frame.to_csv(\"Digite Recognize.csv\", index_label='ImageId')"
      ],
      "execution_count": null,
      "outputs": []
    },
    {
      "cell_type": "code",
      "metadata": {
        "trusted": true,
        "_uuid": "c25e0f89ab06a8b23236a39845d52d0e9d32d782",
        "collapsed": true,
        "id": "M0cyJ59N4OgF"
      },
      "source": [
        "print(frame)"
      ],
      "execution_count": null,
      "outputs": []
    },
    {
      "cell_type": "code",
      "metadata": {
        "trusted": true,
        "collapsed": true,
        "_uuid": "cb31e251756953cd287171e18e69421ca7653fc0",
        "id": "03QNWoAz4OgF"
      },
      "source": [
        "import os"
      ],
      "execution_count": null,
      "outputs": []
    },
    {
      "cell_type": "code",
      "metadata": {
        "colab": {
          "base_uri": "https://localhost:8080/"
        },
        "id": "AOm3xczEI4sR",
        "outputId": "86cc70e8-bddb-4682-8818-d413475edc13"
      },
      "source": [
        "from google.colab import drive\n",
        "drive.mount('/content/drive', force_remount=True)"
      ],
      "execution_count": null,
      "outputs": [
        {
          "output_type": "stream",
          "name": "stdout",
          "text": [
            "Mounted at /content/drive\n"
          ]
        }
      ]
    },
    {
      "cell_type": "code",
      "metadata": {
        "id": "m0WcymebI7FY"
      },
      "source": [
        "os.chdir('/content/drive/My Drive/MNIST-params/base-model')"
      ],
      "execution_count": null,
      "outputs": []
    },
    {
      "cell_type": "code",
      "metadata": {
        "id": "ijGS2YwZJBMo"
      },
      "source": [
        ""
      ],
      "execution_count": null,
      "outputs": []
    }
  ]
}